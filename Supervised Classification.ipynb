{
  "cells": [
    {
      "cell_type": "markdown",
      "metadata": {
        "id": "KzbqxDbKtLKP"
      },
      "source": [
        "# Lab 4: Supervised classification using handcrafted features\n"
      ]
    },
    {
      "cell_type": "markdown",
      "metadata": {
        "id": "opdgdHBHzTw9"
      },
      "source": [
        "In this lab we will classify pool tiles to detect which ones are upside-down during the manufacturing process.\n",
        "\n",
        "\n"
      ]
    },
    {
      "cell_type": "markdown",
      "metadata": {
        "id": "E4NEJ74B-7Kq"
      },
      "source": [
        "## Goals\n",
        "In this lab, you will:\n",
        "- Extract hand-crafted features from images\n",
        "- Classify pool tiles with multiple classifers to detect which ones are upside-down during the manufacturing process\n",
        "- Compare the classifers and choose the best one"
      ]
    },
    {
      "cell_type": "markdown",
      "metadata": {
        "id": "hEYpuM1N1AoO"
      },
      "source": [
        "In this Notebook we are going to compare the classifiers you used in the previous labs. Like in the previous labs, we will use Python library \"scikit-learn\", especifically the functions [LogisticRegression](https://scikit-learn.org/stable/modules/generated/sklearn.linear_model.LogisticRegression.html), [RandomForest](https://scikit-learn.org/stable/modules/generated/sklearn.ensemble.RandomForestClassifier.html), [Support Vector Machine](https://scikit-learn.org/stable/modules/generated/sklearn.svm.SVC.html) and [XGBoost](https://xgboost.readthedocs.io/en/latest/python/python_intro.html) .\n",
        "\n",
        "First of all, we are provided a folder that contains two different datasets of tiles (each dataset contains training, validation and testing image sets). Initially, the images are as follows:\n",
        "\n",
        "<div>\n",
        "<img src=\"https://drive.google.com/uc?export=view&id=1fagQmuBpR-PJxyZ87BB5yk50k2_BMHz4\" width=\"700\"/>\n",
        "</div>\n",
        "\n",
        "\n",
        "However, to make it easier, the datasets are not from these images, but rather from each tile, to which we applied a homography (i.e. a planar transformation) to get an orthogonal view of each tile. <br>\n",
        "<div>\n",
        "<img src= \"https://drive.google.com/uc?export=view&id=1HlhdjNY79pVh6e8ONckXUhP645svHPDf\" width=\"600\"/>\n",
        "</div>\n",
        "\n",
        "Each image set contains two classes of tiles: tiles that are upside-down, where the texture is rather rough, and tiles that are upright, where the texture is normally smoother, but there may be some lines, highlights and/or shadows in some of them.\n",
        "\n",
        "<div>\n",
        "<img src=\"https://drive.google.com/uc?export=view&id=1qsgaD04DQuS08IXnw8egC7RZkPmldN2q\" width=\"700\"/>\n",
        "</div>\n",
        "\n",
        "\n",
        "The objective is, as we said at the beginning, to classify these tiles as upright or upside-down. For that, the features of each image must be computed."
      ]
    },
    {
      "cell_type": "markdown",
      "metadata": {
        "id": "_b-mTi_NF6OK"
      },
      "source": [
        "## Dataset\n",
        "Before extracting the features, we first need to know which datasets we have. All the datasets provided have the same structure:\n",
        "\n",
        "<div>\n",
        "<img src=\"https://drive.google.com/uc?export=view&id=1kRug51OZzF3MQP9UyBHhVSloTxPQbAkZ\" width=\"700\"/>\n",
        "</div>\n",
        "\n",
        "Essentially, the only difference between each dataset is the number of images per set:<br>\n",
        "\n",
        "<ul>\n",
        "<li>\tDataset (0) <b> “200-100-100” </b> contains:</li>\n",
        "    <ul>\n",
        "    <li> 200 images for training: </li>\n",
        "      <ul>\n",
        "        <li> 100 images of upright tiles </li>\n",
        "        <li> 100 images if upside-down tiles</li>\n",
        "      </ul>\n",
        "    <li> 100 images for validation:</li>\n",
        "      <ul>\n",
        "        <li> 50 images of upright tiles</li>\n",
        "        <li> 50 images of upside-down tiles</li>\n",
        "      </ul>\n",
        "    <li>100 images for testing: </li>\n",
        "      <ul>\n",
        "        <li> 50 images of upright tiles</li>\n",
        "        <li> 50 images of upside-down tiles</li>\n",
        "      </ul>\n",
        "    </ul>\n",
        "  <li>Dataset (1) <b> “1000-200-200” </b> contains:</li>\n",
        "    <ul>\n",
        "    <li> 1000 images for training: </li>\n",
        "      <ul>\n",
        "        <li> 500 images of upright tiles </li>\n",
        "        <li> 500 images if upside-down tiles</li>\n",
        "      </ul>\n",
        "    <li> 200 images for validation:</li>\n",
        "      <ul>\n",
        "        <li> 100 images of upright tiles</li>\n",
        "        <li> 100 images of upside-down tiles</li>\n",
        "      </ul>\n",
        "    <li>200 images for testing: </li>\n",
        "      <ul>\n",
        "        <li> 100 images of upright tiles</li>\n",
        "        <li> 100 images of upside-down tiles</li>\n",
        "      </ul>\n",
        "    </ul>\n",
        "  <li>Dataset (2) <b> “10000-2000-2000” </b> contains:</li>\n",
        "    <ul>\n",
        "    <li> 1000 images for training: </li>\n",
        "      <ul>\n",
        "        <li> 5000 images of upright tiles </li>\n",
        "        <li> 5000 images if upside-down tiles</li>\n",
        "      </ul>\n",
        "    <li> 2000 images for validation:</li>\n",
        "      <ul>\n",
        "        <li> 1000 images of upright tiles</li>\n",
        "        <li> 1000 images of upside-down tiles</li>\n",
        "      </ul>\n",
        "    <li>2000 images for testing: </li>\n",
        "      <ul>\n",
        "        <li> 1000 images of upright tiles</li>\n",
        "        <li> 1000 images of upside-down tiles</li>\n",
        "      </ul>\n",
        "    </ul>\n",
        "  \n",
        "\n"
      ]
    },
    {
      "cell_type": "code",
      "execution_count": null,
      "metadata": {
        "id": "5QgZ-0v7HHu0"
      },
      "outputs": [],
      "source": [
        "import numpy as np\n",
        "import cv2\n",
        "from os import listdir\n",
        "from os.path import isfile, join\n",
        "import os\n",
        "import matplotlib.pyplot as plt\n",
        "from skimage.feature import local_binary_pattern, hog\n",
        "from sklearn.linear_model import LogisticRegression\n",
        "from sklearn.svm import SVC\n",
        "from sklearn.tree import DecisionTreeClassifier\n",
        "from sklearn import metrics\n",
        "from scipy.special import expit\n",
        "from sklearn.ensemble import RandomForestClassifier\n",
        "import xgboost as xgb\n",
        "import seaborn as sns\n",
        "from google.colab import drive"
      ]
    },
    {
      "cell_type": "markdown",
      "metadata": {
        "id": "Ro7NS-et2z-m"
      },
      "source": [
        "Now we are going to load the datasets and extract images path.\n",
        "First, you need to add the datasets into your drive. Open [this link](https://drive.google.com/drive/folders/1TBwh3woRWa2dAUJ_N40uwdSoSSETItPA?usp=sharing) and right click on the folder name \"Lab_07_Tiles\" and select \"Add shortcut to Drive\".\n",
        "Next we load the dataset as follow:"
      ]
    },
    {
      "cell_type": "code",
      "execution_count": null,
      "metadata": {
        "colab": {
          "base_uri": "https://localhost:8080/"
        },
        "id": "Lg6hqP6tIS4C",
        "outputId": "ddc1564a-3d25-4534-bb62-306acb4c349e"
      },
      "outputs": [
        {
          "output_type": "stream",
          "name": "stdout",
          "text": [
            "Mounted at /content/drive\n"
          ]
        }
      ],
      "source": [
        "#loading the dataset from Drive\n",
        "drive.mount('/content/drive')\n",
        "data_path = '/content/drive/MyDrive/CV Week 4/Lab_07_datasets'\n",
        "\n",
        "#Dataset (0):  Define paths of train, validation and test dataset folder which contain the images for dataset \"200-100-100\"\n",
        "train_path_d0 ='/content/drive/MyDrive/CVWeek4/Lab_07_datasets/200-100-100/train'\n",
        "validation_path_d0 ='/content/drive/MyDrive/CVWeek4/Lab_07_datasets/200-100-100/validation'\n",
        "test_path_d0 ='/content/drive/MyDrive/CVWeek4/Lab_07_datasets/200-100-100/test'\n",
        "\n",
        "#Dataset (1):  Define paths of train, validation and test dataset folder which contain the images for dataset \"1000-200-200\"\n",
        "train_path_d1 = '/content/drive/MyDrive/CVWeek4/Lab_07_datasets/1000-200-200/train'\n",
        "validation_path_d1 = '/content/drive/MyDrive/CVWeek4/Lab_07_datasets/1000-200-200/validation'\n",
        "test_path_d1 ='/content/drive/MyDrive/CVWeek4/Lab_07_datasets/1000-200-200/test'\n",
        "\n"
      ]
    },
    {
      "cell_type": "markdown",
      "metadata": {
        "id": "FRuXfxjCH8co"
      },
      "source": [
        "## Feature extraction\n",
        "\n",
        "To classify images, we first need some features to pass to the classifier.\n",
        "We refer as “feature” a distinctive attribute or aspect of the image.\n",
        "\n",
        "The first part of this lab is to compute the features of all images in the three image sets: train, validation and test. For that, we are going to try one function from the Scikit-Image library to compute these features:\n",
        "\n",
        "- `hog()`\n",
        "\n",
        "Let's learn a bit more about these features that we will extract from the images: <br>\n",
        "•\t<b> hog() </b>: <br>\n",
        "The histogram of oriented gradients (HOG) is a feature descriptor used in computer vision and image processing for the purpose of object detection. The technique counts occurrences of gradient orientation in localized portions of an image. The essential thought behind the histogram of oriented gradients descriptor is that local object appearance and shape within an image can be described by the distribution of intensity gradients or edge directions. The image is divided into small, connected regions called cells, and for the pixels within each cell, a histogram of gradient directions is compiled. The descriptor is the concatenation of these histograms.\n",
        "\n",
        "<div>\n",
        "<img src=\"https://drive.google.com/uc?export=view&id=1VHx-SqHwVq1iaGSRmjNiNjzfoqXl5rzi\" width=\"700\"/>\n",
        "</div>\n",
        "\n",
        "HOG includes the following arguments:\n",
        "- `orientations`: Number of orientation bins. Default = 9\n",
        "- `pixels_per_cell`: Size (in pixels) of a cell. Default = (8,8)\n",
        "- `cells_per_block`: Number of cells in each block. Default = (3,3) <br>\n",
        "\n",
        "For a deeper understanding of how HOG feature extraction process works: https://www.youtube.com/watch?v=28xk5i1_7Zc\n",
        "\n",
        "Now that we learned a bit about these features let's implement them:<br>\n",
        "Remember that we also need the groundtruth of all three sets to be able to train and check the accuracy of our model. Also, the code must be parameterized, as it must be compatible with all the datasets provided and easy to try. <br>\n",
        "To create this part of the Python program you should follow this pseudocode:\n",
        "\n",
        "- For each imageset:<br>\n",
        "    -\t *Access the different classes of the dataset* <br>\n",
        "    -  *Extract images paths* <br>\n",
        "    -  *Read and extract features of the images* <br>\n",
        "    -  *Add features and ground truth to a feature matrix where all the data from all the images from a imageset is saved* <br>\n",
        "\n",
        "When extracting the features, we are going to test both functions to get to know how they work and what they return. We will start working with the “1000-200-200” dataset or dataset #1.\n"
      ]
    },
    {
      "cell_type": "code",
      "execution_count": null,
      "metadata": {
        "id": "E5lwN9xbTYmK"
      },
      "outputs": [],
      "source": [
        "#Necessary functions:\n",
        "# Extract the Histogram of Gradients features of all the images in a folder \"image_path\",\n",
        "# containing two folders where each contains images from one diferent class.\n",
        "# This function returns two variables:\n",
        "# X --> array of size n*feature vector size, where n is the number of images and the feature vector size is the size of the HOG feature vector\n",
        "# Y --> array of size n containing the Ground truth for each image in X\n",
        "def get_hog_data(images_path, width, height, orient = 9, pixelsxcell = (12, 12), cellsxblock = (3, 3)):\n",
        "    # Read classes (each subfolder inside the \"image_path\" folder contains one class images)\n",
        "    subfolders = [ f.path for f in os.scandir(images_path) if f.is_dir() ]\n",
        "    # Get number of classes\n",
        "    n_folders = len(subfolders)\n",
        "    # Define the feature vector size\n",
        "    #Feature size = ((image rows / cell size (rows)) - (Cells per block (rows) -1))*\n",
        "    #                 (image cols / cell size (cols)) - (Cells per block (cols) -1))*\n",
        "     #                (Cells per block (rows) * Cells per block (cols) * Orientations)\n",
        "    feature_size = int(np.trunc((height/pixelsxcell[0])-(cellsxblock[0]-1))*np.trunc((width/pixelsxcell[1])-(cellsxblock[1]-1))\\\n",
        "                    *(cellsxblock[0]*cellsxblock[1]*orient))\n",
        "    # Define arrays to save all HOG features and GT\n",
        "    X = np.empty([0,feature_size])\n",
        "    Y = np.empty([0,1])\n",
        "    # For each class\n",
        "    for n in np.arange(n_folders):\n",
        "        # Read images names\n",
        "        files = [f for f in listdir(subfolders[n]) if isfile(join(subfolders[n], f))]\n",
        "        # Get total number of images\n",
        "        n_images = len(files)\n",
        "        # Define arrays to save features and GT for new class\n",
        "        Xp = np.zeros((n_images,feature_size))\n",
        "        Yp = np.zeros((n_images, 1))\n",
        "        # For each image\n",
        "        for i in np.arange(n_images):\n",
        "            # Read image\n",
        "            img = cv2.imread(subfolders[n]+'/'+files[i],0) #The second argument, 0, indicates that the image should be loaded in grayscale mode\n",
        "            # Get HOG features for image (Xp) and GT (Yp)\n",
        "            Xp[i], hog_image = hog(img, orientations=orient, pixels_per_cell=pixelsxcell, cells_per_block=cellsxblock, visualize=True)\n",
        "            Yp[i] = n\n",
        "            # Plot HOG image\n",
        "            #plot_hog_image(img, hog_image)\n",
        "        # Save features and GT in X and Y arrays\n",
        "        X = np.append(X, Xp, axis = 0) #axis=0 means the arrays are concatenated along the rows\n",
        "        Y = np.append(Y, Yp, axis = 0)\n",
        "    #X = preprocessing.normalize(X)\n",
        "    # Return features and GT\n",
        "    return X, Y.flatten()\n",
        "\n",
        "# Plot the HOG image resulting from scikit-learnhog() function\n",
        "def c(img, hog_image):\n",
        "    # Define two subplots\n",
        "    fig, (ax1, ax2) = plt.subplots(1, 2, figsize=(8, 4), sharex=True, sharey=True)\n",
        "    # Plot original image\n",
        "    ax1.axis('off')\n",
        "    ax1.imshow(img, cmap=plt.cm.gray)\n",
        "    ax1.set_title('Input image')\n",
        "    # Plot HOG image\n",
        "    ax2.axis('off')\n",
        "    ax2.imshow(hog_image, cmap=plt.cm.gray)\n",
        "    ax2.set_title('Histogram of Oriented Gradients')"
      ]
    },
    {
      "cell_type": "markdown",
      "metadata": {
        "id": "JWoGXon887Dn"
      },
      "source": [
        "Now that we have all useful functions we can extract features.\n",
        "First we need to define the size of images and then use the feature extraction function."
      ]
    },
    {
      "cell_type": "code",
      "execution_count": null,
      "metadata": {
        "colab": {
          "base_uri": "https://localhost:8080/"
        },
        "id": "-89BTh0x7OV2",
        "outputId": "c47551a7-8bfc-4f7b-c0de-61082e65a967"
      },
      "outputs": [
        {
          "output_type": "stream",
          "name": "stdout",
          "text": [
            "-------------------------------- dataset #0 - 200-100-100--------------------------------\n",
            "\n",
            "Extract Histogram of Gradients features for training, validation and testing datasets:\n",
            "\n",
            "done!\n",
            "-------------------------------- dataset #1 - 1000-200-200--------------------------------\n",
            "\n",
            "Extract Histogram of Gradients features for training, validation and testing datasets:\n",
            "\n",
            "done!\n"
          ]
        }
      ],
      "source": [
        "#feature extraction\n",
        "# Extract the features of each image for each dataset\n",
        "# Define size of images to compute size of HOG feature vector for each image\n",
        "width = 64\n",
        "height = 64\n",
        "\n",
        "#dataset #0 \"200-100-100\"\n",
        "print(\"-------------------------------- dataset #0 - 200-100-100--------------------------------\\n\")\n",
        "\n",
        "print(\"Extract Histogram of Gradients features for training, validation and testing datasets:\\n\")\n",
        "Xtrain_d0, Ytrain_d0 = get_hog_data(train_path_d0, width, height)\n",
        "Xval_d0, Yval_d0 = get_hog_data(validation_path_d0, width, height)\n",
        "Xtest_d0, Ytest_d0 = get_hog_data(test_path_d0, width, height)\n",
        "print('done!')\n",
        "\n",
        "#dataset #1 \"1000-200-200\"\n",
        "print(\"-------------------------------- dataset #1 - 1000-200-200--------------------------------\\n\")\n",
        "\n",
        "print(\"Extract Histogram of Gradients features for training, validation and testing datasets:\\n\")\n",
        "Xtrain_d1, Ytrain_d1 = get_hog_data(train_path_d1, width, height)\n",
        "Xval_d1, Yval_d1 = get_hog_data(validation_path_d1, width, height)\n",
        "Xtest_d1, Ytest_d1 = get_hog_data(test_path_d1, width, height)\n",
        "print('done!')\n"
      ]
    },
    {
      "cell_type": "markdown",
      "metadata": {
        "id": "jZXVLlfKEHPw"
      },
      "source": [
        "In the cell below, extract HoG features for dataset #2\n"
      ]
    },
    {
      "cell_type": "code",
      "execution_count": null,
      "metadata": {
        "id": "5PeVuShnRw03"
      },
      "outputs": [],
      "source": [
        "#feature extraction\n",
        "# Extract the features of each image for each dataset\n",
        "# Define size of images to compute size of HOG feature vector for each image\n",
        "width = 64\n",
        "height = 64\n",
        "\n",
        "#Dataset (2):  Define paths of train, validation and test dataset folder which contain the images for dataset \"10000-2000-2000\"\n",
        "train_path_d2 = '/content/drive/MyDrive/CVWeek4/Lab_07_datasets/10000-2000-2000/train'\n",
        "validation_path_d2 = '/content/drive/MyDrive/CVWeek4/Lab_07_datasets/10000-2000-2000/validation'\n",
        "test_path_d2 ='/content/drive/MyDrive/CVWeek4/Lab_07_datasets/10000-2000-2000/test'\n",
        "\n",
        "#dataset #2 \"10000-2000-2000\"\n",
        "print(\"-------------------------------- dataset #2 - 10000-2000-2000--------------------------------\\n\")\n",
        "\n",
        "print(\"Extract Histogram of Gradients features for training, validation and testing datasets:\\n\")\n",
        "Xtrain_d2, Ytrain_d2 = get_hog_data(train_path_d2, width, height)\n",
        "Xval_d2, Yval_d2 = get_hog_data(validation_path_d2, width, height)\n",
        "Xtest_d2, Ytest_d2 = get_hog_data(test_path_d2, width, height)\n",
        "print('done!')\n"
      ]
    },
    {
      "cell_type": "markdown",
      "metadata": {
        "id": "qp2huETCTdtA"
      },
      "source": [
        "## Classification\n",
        "As we previously indicated, the objective of this lab is to classify the tiles. In machine learning, classification is a supervised learning concept which basically categorizes a set of data into classes.\n",
        "\n",
        "To train and test a model, we need three different image sets:\n",
        "-\t**Training Dataset:** The sample of data used to fit the model.\n",
        "- **Validation Dataset:** The sample of data used to provide an unbiased evaluation of a model fit on the training dataset while tuning model hyperparameters.\n",
        "-\t**Test Dataset:** The sample of data used to provide an unbiased evaluation of a final model fit on the training dataset.\n",
        "\n",
        "In the datasets we provided, as we specified above when introducing our datasets, we already have these three image sets in each dataset to make it easier to classify.\n",
        "\n",
        "To classify the tiles, we are going to try 4 different classifiers that generate different classification models:\n",
        "- `linear_model.LogisticRegression()`\n",
        "- `svm.SVC()`\n",
        "- `ensemble.RandomForestClassifier()`\n",
        "- `XGBClassifier()` <br>\n",
        "\n",
        "These functions, combined later with the function `predict()`, will allow us to classify the tiles.\n",
        "\n",
        "To create this part of the Python program you will follow this pseudocode:<br>\n",
        "- *Extract features from the images in the dataset*\n",
        "- *Fit classifier (re-use the code from the previous labs)*\n",
        "- *Predict validation classes and check how well the model fits*\n",
        "- *Compute the confusion matrix and the accuracy of the validation predictions*\n",
        "- *When an acceptable model is computed, test the model with the testing image* set\n",
        "- *Compute the confusion matrix and the accuracy of the testing predictions*\n"
      ]
    },
    {
      "cell_type": "code",
      "execution_count": null,
      "metadata": {
        "id": "8cqtAVYA4VtR"
      },
      "outputs": [],
      "source": [
        "#Function to calculate confusion matrix\n",
        "#Plot the confusion matrix of the X data (features) with GT Y\n",
        "def get_confusion_matrix(clf,X,Y,title):\n",
        "    # Get predictions\n",
        "    res = clf.predict(X)\n",
        "    # Define Confusion Matrix\n",
        "    cm = metrics.confusion_matrix(Y, res)\n",
        "    # Plot confusion matrix\n",
        "    plt.figure(figsize=(9,9))\n",
        "    sns.heatmap(cm, annot=True, fmt=\".3f\", linewidths=.5, square = True, cmap = 'Blues_r');\n",
        "    plt.ylabel('Actual label');\n",
        "    plt.xlabel('Predicted label')\n",
        "    plt.title(\"Confusion matrix \"+title+\" data\", size = 15)"
      ]
    },
    {
      "cell_type": "markdown",
      "metadata": {
        "id": "6CRxbkRL4hoL"
      },
      "source": [
        "###Logistic Regression###"
      ]
    },
    {
      "cell_type": "code",
      "execution_count": null,
      "metadata": {
        "id": "wGG-Mt4A4egH",
        "colab": {
          "base_uri": "https://localhost:8080/",
          "height": 1000
        },
        "outputId": "c2247195-ca35-4338-c498-c04ce050989a"
      },
      "outputs": [
        {
          "output_type": "stream",
          "name": "stdout",
          "text": [
            "-------- dataset #0--------\n",
            "\n",
            "--------Logistic Regression--------\n",
            "\n",
            "Accuracy Train set 100.0\n",
            "Accuracy Valid set 3.0\n",
            "-------- dataset #1--------\n",
            "\n",
            "--------Logistic Regression--------\n",
            "\n",
            "Accuracy Train set 98.3\n",
            "Accuracy Valid set 97.0\n"
          ]
        },
        {
          "output_type": "display_data",
          "data": {
            "text/plain": [
              "<Figure size 900x900 with 2 Axes>"
            ],
            "image/png": "[encoded data removed]"
          },
          "metadata": {}
        },
        {
          "output_type": "display_data",
          "data": {
            "text/plain": [
              "<Figure size 900x900 with 2 Axes>"
            ],
            "image/png": "[encoded data removed]"
          },
          "metadata": {}
        }
      ],
      "source": [
        "def LR(Xtrain,Ytrain,Xval,Yval):\n",
        "  print(\"--------Logistic Regression--------\\n\")\n",
        "  #Define Logistic Regression Classifier\n",
        "  clf = LogisticRegression(random_state=0,max_iter=10000 )\n",
        "  #train the classifier\n",
        "  clf.fit(Xtrain,Ytrain)\n",
        "  #Calculate accuracy of the model using validation set\n",
        "  print(\"Accuracy Train set\",clf.score(Xtrain,Ytrain)*100)\n",
        "  #Calculate accuracy of the model using validation set\n",
        "  print(\"Accuracy Valid set\",clf.score(Xval,Yval)*100)\n",
        "  #plot confusion matrix\n",
        "  get_confusion_matrix(clf,Xval,Yval,\"Validation\")\n",
        "\n",
        "\n",
        "# Compute and check the classifier for dataset #0:\n",
        "#Classify HOG features\n",
        "print(\"-------- dataset #0--------\\n\")\n",
        "LR(Xtrain_d0,Ytrain_d0,Xval_d0,Yval_d0)\n",
        "\n",
        "# Compute and check the classifier for dataset #1 :\n",
        "#Classify HOG features\n",
        "print(\"-------- dataset #1--------\\n\")\n",
        "LR(Xtrain_d1,Ytrain_d1,Xval_d1,Yval_d1)\n"
      ]
    },
    {
      "cell_type": "markdown",
      "metadata": {
        "id": "BTw5jEFB6ZMt"
      },
      "source": [
        "###Support Vector Machine###"
      ]
    },
    {
      "cell_type": "code",
      "execution_count": null,
      "metadata": {
        "id": "r3rA8uMt6Kvd"
      },
      "outputs": [],
      "source": [
        "def SVM(Xtrain,Ytrain,Xval,Yval):\n",
        "  print(\"--------Support Vector Machine--------\\n\")\n",
        "  #Define SVM Classifier\n",
        "  clf = SVC(random_state=0)\n",
        "  #train the classifier\n",
        "  clf.fit(Xtrain,Ytrain)\n",
        "  #Calculate accuracy of the model using validation set\n",
        "  print(\"Accuracy Train set\",clf.score(Xtrain,Ytrain)*100)\n",
        "  #Calculate accuracy of the model using validation set\n",
        "  print(\"Accuracy Valid set\",clf.score(Xval,Yval)*100)\n",
        "  #plot confusion matrix\n",
        "  get_confusion_matrix(clf,Xval,Yval,\"Validation\")\n",
        "\n",
        "# Compute and check the classifier for dataset #0:\n",
        "print(\"-------- dataset #0--------\\n\")\n",
        "SVM(Xtrain_d0,Ytrain_d0,Xval_d0,Yval_d0)\n",
        "\n",
        "# Compute and check the classifier for dataset #1:\n",
        "print(\"-------- dataset #1--------\\n\")\n",
        "SVM(Xtrain_d1,Ytrain_d1,Xval_d1,Yval_d1)"
      ]
    },
    {
      "cell_type": "markdown",
      "metadata": {
        "id": "Vfl0y1el6o3o"
      },
      "source": [
        "###Random Forest###"
      ]
    },
    {
      "cell_type": "code",
      "execution_count": null,
      "metadata": {
        "id": "KVtkFFzg6rPT"
      },
      "outputs": [],
      "source": [
        "def RF(Xtrain,Ytrain,Xval,Yval):\n",
        "  print(\"--------Random Forest--------\\n\")\n",
        "  #Define RF Classifier\n",
        "  clf = RandomForestClassifier(random_state=0)\n",
        "  #train the classifier\n",
        "  clf.fit(Xtrain,Ytrain)\n",
        "  #Calculate accuracy of the model using validation set\n",
        "  print(\"Accuracy Train set\",clf.score(Xtrain,Ytrain)*100)\n",
        "  #Calculate accuracy of the model using validation set\n",
        "  print(\"Accuracy Valid set\",clf.score(Xval,Yval)*100)\n",
        "  #plot confusion matrix\n",
        "  get_confusion_matrix(clf,Xval,Yval,\"Validation\")\n",
        "\n",
        "# Compute and check the classifier for dataset #0:\n",
        "print(\"-------- dataset #0--------\\n\")\n",
        "RF(Xtrain_d0,Ytrain_d0,Xval_d0,Yval_d0)\n",
        "\n",
        "# Compute and check the classifier for dataset #1:\n",
        "print(\"-------- dataset #1--------\\n\")\n",
        "RF(Xtrain_d1,Ytrain_d1,Xval_d1,Yval_d1)\n"
      ]
    },
    {
      "cell_type": "markdown",
      "metadata": {
        "id": "9DWbxQuY69mQ"
      },
      "source": [
        "\n",
        "###XG Boost###"
      ]
    },
    {
      "cell_type": "code",
      "execution_count": null,
      "metadata": {
        "id": "iu-K00Cl7Dum"
      },
      "outputs": [],
      "source": [
        "def XGBoost(Xtrain,Ytrain,Xval,Yval):\n",
        "  print(\"--------XG Boost--------\\n\")\n",
        "  #Define XGBoost Classifier\n",
        "  clf = xgb.XGBClassifier(objective=\"binary:logistic\", random_state=0)\n",
        "  #train the classifier\n",
        "  clf.fit(Xtrain,Ytrain)\n",
        "  #Calculate accuracy of the model using validation set\n",
        "  print(\"Accuracy Train set\",clf.score(Xtrain,Ytrain)*100)\n",
        "  #Calculate accuracy of the model using validation set\n",
        "  print(\"Accuracy Valid set\",clf.score(Xval,Yval)*100)\n",
        "  #plot confusion matrix\n",
        "  get_confusion_matrix(clf,Xval,Yval,\"Validation\")\n",
        "\n",
        "# Compute and check the classifier for dataset #0:\n",
        "print(\"-------- dataset #0--------\\n\")\n",
        "XGBoost(Xtrain_d0,Ytrain_d0,Xval_d0,Yval_d0)\n",
        "\n",
        "# Compute and check the classifier for dataset #1:\n",
        "print(\"-------- dataset #1--------\\n\")\n",
        "XGBoost(Xtrain_d1,Ytrain_d1,Xval_d1,Yval_d1)\n"
      ]
    },
    {
      "cell_type": "markdown",
      "metadata": {
        "id": "Nlib6KFZTl8i"
      },
      "source": [
        "### Model Improvement###\n",
        "Now with your knowledge from previous labs, modify the hyperparameters of LR and SVM, if needed, and train the models again until you are happy with the validation accuracy wrt the training accuracy.\n",
        "Afterwards, test the final models (with the chosen hyperparameters) using the test set."
      ]
    },
    {
      "cell_type": "markdown",
      "metadata": {
        "id": "39swaItzcRSu"
      },
      "source": [
        "\n",
        "Initially the function is changed to compute the test accuracy as well, and it was considered that we will not look at it during hyperparameter tuning.\n",
        "But just to avoid any bias due to test accuract, we compute the test accuracy after hyperparameter tunings so we do not see this test accuracy until after we are done.\n"
      ]
    },
    {
      "cell_type": "markdown",
      "metadata": {
        "id": "NyrLdseNaMJP"
      },
      "source": [
        "#### LR"
      ]
    },
    {
      "cell_type": "code",
      "execution_count": null,
      "metadata": {
        "id": "vIY6UEHPZ61t",
        "colab": {
          "base_uri": "https://localhost:8080/",
          "height": 1000
        },
        "outputId": "05f08a7c-53d8-4038-eecb-64bd01292736"
      },
      "outputs": [
        {
          "output_type": "stream",
          "name": "stdout",
          "text": [
            "\n",
            " -------- dataset #0--------\n",
            "\n",
            "--------Logistic Regression--------\n",
            "\n",
            "Accuracy Train set 100.0\n",
            "Accuracy Valid set 3.0\n",
            "\n",
            " -------- dataset #1--------\n",
            "\n",
            "--------Logistic Regression--------\n",
            "\n",
            "Accuracy Train set 98.3\n",
            "Accuracy Valid set 97.0\n"
          ]
        },
        {
          "output_type": "display_data",
          "data": {
            "text/plain": [
              "<Figure size 900x900 with 2 Axes>"
            ],
            "image/png": "[encoded data removed]"
          },
          "metadata": {}
        },
        {
          "output_type": "display_data",
          "data": {
            "text/plain": [
              "<Figure size 900x900 with 2 Axes>"
            ],
            "image/png": "[encoded data removed]"
          },
          "metadata": {}
        }
      ],
      "source": [
        "def LR(Xtrain,Ytrain,Xval,Yval,Xtest,Ytest):\n",
        "  print(\"--------Logistic Regression--------\\n\")\n",
        "  #Define Logistic Regression Classifier\n",
        "  clf = LogisticRegression(random_state=0,max_iter=10000 )\n",
        "  #train the classifier\n",
        "  clf.fit(Xtrain,Ytrain)\n",
        "  #Calculate accuracy of the model using validation set\n",
        "  print(\"Accuracy Train set\",clf.score(Xtrain,Ytrain)*100)\n",
        "  #Calculate accuracy of the model using validation set\n",
        "  print(\"Accuracy Valid set\",clf.score(Xval,Yval)*100)\n",
        "\n",
        "  #plot confusion matrix\n",
        "  get_confusion_matrix(clf,Xval,Yval,\"Validation\")\n",
        "\n",
        "\n",
        "\n",
        "\n",
        "# Compute and check the classifier for dataset #0:\n",
        "#Classify HOG features\n",
        "print(\"\\n -------- dataset #0--------\\n\")\n",
        "LR_model_d0 = LR(Xtrain_d0,Ytrain_d0,Xval_d0,Yval_d0,Xtest_d0,Ytest_d0)\n",
        "\n",
        "# Compute and check the classifier for dataset #1 :\n",
        "#Classify HOG features\n",
        "print(\"\\n -------- dataset #1--------\\n\")\n",
        "LR_model_d1 = LR(Xtrain_d1,Ytrain_d1,Xval_d1,Yval_d1,Xtest_d1,Ytest_d1)\n"
      ]
    },
    {
      "cell_type": "markdown",
      "metadata": {
        "id": "7Mg71eBwaT46"
      },
      "source": [
        "#### SVM"
      ]
    },
    {
      "cell_type": "code",
      "execution_count": null,
      "metadata": {
        "id": "0czMNjiea4Vi"
      },
      "outputs": [],
      "source": [
        "def SVM(Xtrain,Ytrain,Xval,Yval,Xtest,Ytest):\n",
        "  print(\"--------Support Vector Machine--------\\n\")\n",
        "  #Define SVM Classifier\n",
        "  clf = SVC(random_state=0)\n",
        "  #train the classifier\n",
        "  clf.fit(Xtrain,Ytrain)\n",
        "  #Calculate accuracy of the model using validation set\n",
        "  print(\"Accuracy Train set\",clf.score(Xtrain,Ytrain)*100)\n",
        "  #Calculate accuracy of the model using validation set\n",
        "  print(\"Accuracy Valid set\",clf.score(Xval,Yval)*100)\n",
        "  #plot confusion matrix\n",
        "  get_confusion_matrix(clf,Xval,Yval,\"Validation\")\n",
        "\n",
        "\n",
        "\n",
        "# Compute and check the classifier for dataset #0:\n",
        "print(\"\\n-------- dataset #0--------\\n\")\n",
        "SVM_model_d0 = SVM(Xtrain_d0,Ytrain_d0,Xval_d0,Yval_d0,Xtest_d0,Ytest_d0)\n",
        "\n",
        "# Compute and check the classifier for dataset #1:\n",
        "print(\"\\n-------- dataset #1--------\\n\")\n",
        "SVM_model_d1 = SVM(Xtrain_d1,Ytrain_d1,Xval_d1,Yval_d1,Xtest_d1,Ytest_d1)\n",
        "\n"
      ]
    },
    {
      "cell_type": "markdown",
      "metadata": {
        "id": "mH4DGT4waYN1"
      },
      "source": [
        "#### Random Forest"
      ]
    },
    {
      "cell_type": "code",
      "execution_count": null,
      "metadata": {
        "id": "bE2YsB1va7yT"
      },
      "outputs": [],
      "source": [
        "def RF(Xtrain,Ytrain,Xval,Yval,Xtest,Ytest):\n",
        "  print(\"--------Random Forest--------\\n\")\n",
        "  #Define RF Classifier\n",
        "  clf = RandomForestClassifier(random_state=0)\n",
        "  #train the classifier\n",
        "  clf.fit(Xtrain,Ytrain)\n",
        "  #Calculate accuracy of the model using validation set\n",
        "  print(\"Accuracy Train set\",clf.score(Xtrain,Ytrain)*100)\n",
        "  #Calculate accuracy of the model using validation set\n",
        "  print(\"Accuracy Valid set\",clf.score(Xval,Yval)*100)\n",
        "  #plot confusion matrix\n",
        "  get_confusion_matrix(clf,Xval,Yval,\"Validation\")\n",
        "\n",
        "# Compute and check the classifier for dataset #0:\n",
        "print(\"\\n-------- dataset #0--------\\n\")\n",
        "RF_model_d0 = RF(Xtrain_d0,Ytrain_d0,Xval_d0,Yval_d0,Xtest_d0,Ytest_d0)\n",
        "\n",
        "# Compute and check the classifier for dataset #1:\n",
        "print(\"\\n-------- dataset #1--------\\n\")\n",
        "RF_model_d1 = RF(Xtrain_d1,Ytrain_d1,Xval_d1,Yval_d1,Xtest_d1,Ytest_d1)\n"
      ]
    },
    {
      "cell_type": "markdown",
      "metadata": {
        "id": "8SE3AXakaWT9"
      },
      "source": [
        "#### XGB"
      ]
    },
    {
      "cell_type": "code",
      "execution_count": null,
      "metadata": {
        "id": "j3uZku-3a8sP"
      },
      "outputs": [],
      "source": [
        "def XGBoost(Xtrain,Ytrain,Xval,Yval,Xtest,Ytest):\n",
        "  print(\"--------XG Boost--------\\n\")\n",
        "  #Define XGBoost Classifier\n",
        "  clf = xgb.XGBClassifier(objective=\"binary:logistic\", random_state=0)\n",
        "  #train the classifier\n",
        "  clf.fit(Xtrain,Ytrain)\n",
        "  #Calculate accuracy of the model using validation set\n",
        "  print(\"Accuracy Train set\",clf.score(Xtrain,Ytrain)*100)\n",
        "  #Calculate accuracy of the model using validation set\n",
        "  print(\"Accuracy Valid set\",clf.score(Xval,Yval)*100)\n",
        "  #plot confusion matrix\n",
        "  get_confusion_matrix(clf,Xval,Yval,\"Validation\")\n",
        "\n",
        "\n",
        "# Compute and check the classifier for dataset #0:\n",
        "print(\"\\n-------- dataset #0--------\\n\")\n",
        "XGB_model_d0 = XGBoost(Xtrain_d0,Ytrain_d0,Xval_d0,Yval_d0,Xtest_d0,Ytest_d0)\n",
        "\n",
        "# Compute and check the classifier for dataset #1:\n",
        "print(\"\\n-------- dataset #1--------\\n\")\n",
        "XGB_model_d1 = XGBoost(Xtrain_d1,Ytrain_d1,Xval_d1,Yval_d1,Xtest_d1,Ytest_d1)\n"
      ]
    },
    {
      "cell_type": "markdown",
      "metadata": {
        "id": "Ob2RChwgZjft"
      },
      "source": [
        "\n",
        "Now compute Test accuracies for each of the Models after tuning the hyperparameters. **bold text**\n"
      ]
    },
    {
      "cell_type": "code",
      "execution_count": null,
      "metadata": {
        "id": "hiyaBiNRZHDb"
      },
      "outputs": [],
      "source": [
        "# Compute Test Accuracies for dataset 00 here"
      ]
    },
    {
      "cell_type": "code",
      "execution_count": null,
      "metadata": {
        "id": "oKyh8dXXe-wL"
      },
      "outputs": [],
      "source": [
        "# Compute Test Accuracies for dataset 01 here"
      ]
    },
    {
      "cell_type": "markdown",
      "metadata": {
        "id": "X6YZFxjPZB0k"
      },
      "source": [
        "\n",
        "**What observations can you make for each of the model? Which one do you think doesnt perform so well?**"
      ]
    },
    {
      "cell_type": "markdown",
      "metadata": {
        "id": "MwdbR5SPVWX7"
      },
      "source": [
        "## Questions\n",
        "Once you have your code implemented, answer these questions:\n"
      ]
    },
    {
      "cell_type": "markdown",
      "metadata": {
        "id": "61YqOSVP1xKm"
      },
      "source": [
        "- About `linear_model.LogisticRegression()`: <br>\n",
        "  - Use the default values of HOG features, and load the “200-100-100” dataset.a Using the `linear_model.LogisticRegression()`, what accuracy do you have predicting the validation and test classes? Show the confusion matrix and the accuracy and compare them. Why are the accuracy of the validation and the test predictions quite different?  (Hint: Analyse the image sets of the “200-100-100” dataset visually) <br>\n",
        "  - Using now the “10000-2000-2000” dataset, answer again the previous question. Is the result better than the previous one? Why? <br>\n",
        "  (add your colde for dataset #2 below)"
      ]
    },
    {
      "cell_type": "markdown",
      "metadata": {
        "id": "CIdoszkU2Nrf"
      },
      "source": [
        "-\t`About svm.SVC()`:\n",
        "  -\tUsing the default values of HOG features, “1000-200-200” dataset and `svm.SVC()`, what accuracy do you have predicting the validation and test classes?\n",
        "  -\tUsing now the “10000-2000-2000” dataset, answer again the previous question."
      ]
    },
    {
      "cell_type": "markdown",
      "metadata": {
        "id": "KFGPxWZh2YKK"
      },
      "source": [
        "- About  `ensemble.RandomForestClassifier()`:\n",
        "  - Using the default values of HOG features, “1000-200-200” dataset and `ensemble.RandomForestClassifier()`, what accuracy do you have predicting the validation and test classes? Show the confusion matrix and the accuracy and compare them.\n",
        "  - Using now the “10000-2000-2000” dataset, answer again the previous question."
      ]
    },
    {
      "cell_type": "markdown",
      "metadata": {
        "id": "2yOmP_9s2fq3"
      },
      "source": [
        "\n",
        "- About `XGBClassifier()`:\n",
        "   - Using the default values of HOG features, “1000-200-200” dataset and `XGBClassifier()`, what accuracy do you have predicting the validation and test classes? Show the confusion matrix and the accuracy and compare them.\n",
        "  - Using now the “10000-2000-2000” dataset, answer again the previous question."
      ]
    },
    {
      "cell_type": "markdown",
      "metadata": {
        "id": "eaYstI9U2nbj"
      },
      "source": [
        "\n",
        "-\tCompare the results obtained with each classifier with both datasets and each feature extraction method and choose the best combination and explain why you chose it."
      ]
    },
    {
      "cell_type": "markdown",
      "metadata": {
        "id": "uyiB25zzWhe9"
      },
      "source": [
        "## Deliverable ##\n",
        "You must deliver this notebook with all the cells executed and the questions answered (in red)."
      ]
    }
  ],
  "metadata": {
    "colab": {
      "provenance": [],
      "gpuType": "T4"
    },
    "kernelspec": {
      "display_name": "Python 3",
      "name": "python3"
    },
    "language_info": {
      "name": "python"
    }
  },
  "nbformat": 4,
  "nbformat_minor": 0
}